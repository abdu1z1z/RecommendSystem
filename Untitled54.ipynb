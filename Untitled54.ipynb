{
  "nbformat": 4,
  "nbformat_minor": 0,
  "metadata": {
    "colab": {
      "provenance": []
    },
    "kernelspec": {
      "name": "python3",
      "display_name": "Python 3"
    },
    "language_info": {
      "name": "python"
    }
  },
  "cells": [
    {
      "cell_type": "code",
      "source": [
        "pip install deep_sort_pytorch"
      ],
      "metadata": {
        "colab": {
          "base_uri": "https://localhost:8080/"
        },
        "id": "AWEFbZu4ZaIl",
        "outputId": "9f632c71-84d2-4987-aa44-3adf6e2b8ebc"
      },
      "execution_count": 5,
      "outputs": [
        {
          "output_type": "stream",
          "name": "stdout",
          "text": [
            "\u001b[31mERROR: Could not find a version that satisfies the requirement deep_sort_pytorch (from versions: none)\u001b[0m\u001b[31m\n",
            "\u001b[0m\u001b[31mERROR: No matching distribution found for deep_sort_pytorch\u001b[0m\u001b[31m\n",
            "\u001b[0m"
          ]
        }
      ]
    },
    {
      "cell_type": "code",
      "source": [
        "pip install YOLOv11"
      ],
      "metadata": {
        "colab": {
          "base_uri": "https://localhost:8080/"
        },
        "id": "ei18oskRaevQ",
        "outputId": "21c9756f-27c8-4210-dc83-caeea41d6451"
      },
      "execution_count": 4,
      "outputs": [
        {
          "output_type": "stream",
          "name": "stdout",
          "text": [
            "\u001b[31mERROR: Could not find a version that satisfies the requirement YOLOv11 (from versions: none)\u001b[0m\u001b[31m\n",
            "\u001b[0m\u001b[31mERROR: No matching distribution found for YOLOv11\u001b[0m\u001b[31m\n",
            "\u001b[0m"
          ]
        }
      ]
    },
    {
      "cell_type": "code",
      "execution_count": 5,
      "metadata": {
        "colab": {
          "base_uri": "https://localhost:8080/",
          "height": 393
        },
        "id": "xRLaZCiAZHez",
        "outputId": "fae3c270-0171-4a18-9801-3ff204cd185c"
      },
      "outputs": [
        {
          "output_type": "error",
          "ename": "ModuleNotFoundError",
          "evalue": "No module named 'yolov11'",
          "traceback": [
            "\u001b[0;31m---------------------------------------------------------------------------\u001b[0m",
            "\u001b[0;31mModuleNotFoundError\u001b[0m                       Traceback (most recent call last)",
            "\u001b[0;32m<ipython-input-5-c828f43be830>\u001b[0m in \u001b[0;36m<cell line: 4>\u001b[0;34m()\u001b[0m\n\u001b[1;32m      2\u001b[0m \u001b[0;32mimport\u001b[0m \u001b[0mnumpy\u001b[0m \u001b[0;32mas\u001b[0m \u001b[0mnp\u001b[0m\u001b[0;34m\u001b[0m\u001b[0;34m\u001b[0m\u001b[0m\n\u001b[1;32m      3\u001b[0m \u001b[0;32mimport\u001b[0m \u001b[0mtorch\u001b[0m\u001b[0;34m\u001b[0m\u001b[0;34m\u001b[0m\u001b[0m\n\u001b[0;32m----> 4\u001b[0;31m \u001b[0;32mfrom\u001b[0m \u001b[0myolov11\u001b[0m \u001b[0;32mimport\u001b[0m \u001b[0mYOLOv11\u001b[0m  \u001b[0;31m# Assuming YOLOv11 is available in the module\u001b[0m\u001b[0;34m\u001b[0m\u001b[0;34m\u001b[0m\u001b[0m\n\u001b[0m\u001b[1;32m      5\u001b[0m \u001b[0;32mfrom\u001b[0m \u001b[0mcollections\u001b[0m \u001b[0;32mimport\u001b[0m \u001b[0mdeque\u001b[0m\u001b[0;34m\u001b[0m\u001b[0;34m\u001b[0m\u001b[0m\n\u001b[1;32m      6\u001b[0m \u001b[0;34m\u001b[0m\u001b[0m\n",
            "\u001b[0;31mModuleNotFoundError\u001b[0m: No module named 'yolov11'",
            "",
            "\u001b[0;31m---------------------------------------------------------------------------\u001b[0;32m\nNOTE: If your import is failing due to a missing package, you can\nmanually install dependencies using either !pip or !apt.\n\nTo view examples of installing some common dependencies, click the\n\"Open Examples\" button below.\n\u001b[0;31m---------------------------------------------------------------------------\u001b[0m\n"
          ],
          "errorDetails": {
            "actions": [
              {
                "action": "open_url",
                "actionText": "Open Examples",
                "url": "/notebooks/snippets/importing_libraries.ipynb"
              }
            ]
          }
        }
      ],
      "source": [
        "import cv2\n",
        "import numpy as np\n",
        "import torch\n",
        "from yolov11 import YOLOv11  # Assuming YOLOv11 is available in the module\n",
        "from collections import deque\n",
        "\n",
        "class FootballTracker:\n",
        "    def __init__(self, model_path):\n",
        "        self.device = torch.device(\"cuda\" if torch.cuda.is_available() else \"cpu\")\n",
        "        self.model = YOLOv11(model_path, device=self.device)  # Load the YOLOv11 model\n",
        "        self.tracks = {}  # Dictionary to store player and ball tracks\n",
        "        self.track_history = deque(maxlen=30)  # Keep track of positions for smoother annotations\n",
        "        self.possession_counts = {\"team_1\": 0, \"team_2\": 0}\n",
        "\n",
        "    def process_frame(self, frame):\n",
        "        results = self.model.predict(frame)\n",
        "        detections = results.pandas().xyxy[0].to_numpy()  # Extract predictions in pandas format\n",
        "        tracks = []\n",
        "        for *xyxy, conf, cls in detections:\n",
        "            x1, y1, x2, y2 = xyxy\n",
        "            bbox = [int(x1), int(y1), int(x2), int(y2)]\n",
        "            tracks.append((bbox, conf, int(cls)))\n",
        "        return tracks\n",
        "\n",
        "    def calculate_possession(self, tracks, ball_position):\n",
        "        min_distance_team_1 = float(\"inf\")\n",
        "        min_distance_team_2 = float(\"inf\")\n",
        "        team_1_closest = False\n",
        "        for track in tracks:\n",
        "            bbox, _, cls = track\n",
        "            player_position = [(bbox[0] + bbox[2]) // 2, (bbox[1] + bbox[3]) // 2]\n",
        "            distance = np.linalg.norm(np.array(player_position) - np.array(ball_position))\n",
        "            if cls == 1 and distance < min_distance_team_1:  # Assuming cls 1 is team_1\n",
        "                min_distance_team_1 = distance\n",
        "                team_1_closest = True\n",
        "            elif cls == 2 and distance < min_distance_team_2:  # Assuming cls 2 is team_2\n",
        "                min_distance_team_2 = distance\n",
        "                team_1_closest = False\n",
        "        if team_1_closest:\n",
        "            self.possession_counts['team_1'] += 1\n",
        "        else:\n",
        "            self.possession_counts['team_2'] += 1\n",
        "\n",
        "    def annotate_frame(self, frame, tracks):\n",
        "        for track in tracks:\n",
        "            bbox, _, cls = track\n",
        "            color = (0, 0, 255) if cls == 1 else (255, 0, 0)  # Red for team_1, Blue for team_2\n",
        "            cv2.rectangle(frame, (bbox[0], bbox[1]), (bbox[2], bbox[3]), color, 2)\n",
        "            label = \"Team 1\" if cls == 1 else \"Team 2\"\n",
        "            cv2.putText(frame, label, (bbox[0], bbox[1] - 10), cv2.FONT_HERSHEY_SIMPLEX, 0.5, color, 2)\n",
        "\n",
        "        # Annotate possession percentages\n",
        "        team_1_percentage = (self.possession_counts['team_1'] / sum(self.possession_counts.values()) * 100) if sum(self.possession_counts.values()) > 0 else 0\n",
        "        team_2_percentage = (self.possession_counts['team_2'] / sum(self.possession_counts.values()) * 100) if sum(self.possession_counts.values()) > 0 else 0\n",
        "        cv2.putText(frame, f\"Team 1 Possession: {team_1_percentage:.2f}%\", (10, 30), cv2.FONT_HERSHEY_SIMPLEX, 0.8, (0, 0, 255), 2)\n",
        "        cv2.putText(frame, f\"Team 2 Possession: {team_2_percentage:.2f}%\", (10, 60), cv2.FONT_HERSHEY_SIMPLEX, 0.8, (255, 0, 0), 2)\n",
        "\n",
        "        return frame\n",
        "\n",
        "    def process_video(self, video_path):\n",
        "        cap = cv2.VideoCapture(video_path)\n",
        "        while cap.isOpened():\n",
        "            ret, frame = cap.read()\n",
        "            if not ret:\n",
        "                break\n",
        "            tracks = self.process_frame(frame)\n",
        "            ball_position = [((bbox[0] + bbox[2]) // 2, (bbox[1] + bbox[3]) // 2) for bbox, _, cls in tracks if cls == 0]  # Assuming cls 0 is the ball\n",
        "            if ball_position:\n",
        "                self.calculate_possession(tracks, ball_position[0])\n",
        "            annotated_frame = self.annotate_frame(frame, tracks)\n",
        "            cv2.imshow('Annotated Frame', annotated_frame)\n",
        "            if cv2.waitKey(1) & 0xFF == ord('q'):\n",
        "                break\n",
        "        cap.release()\n",
        "        cv2.destroyAllWindows()\n",
        "\n",
        "if __name__ == \"__main__\":\n",
        "    tracker = FootballTracker(\"best.pt\")\n",
        "    tracker.process_video(\"input_video.mp4\")\n"
      ]
    },
    {
      "cell_type": "code",
      "source": [],
      "metadata": {
        "id": "PTra3RSRbyfU"
      },
      "execution_count": null,
      "outputs": []
    }
  ]
}